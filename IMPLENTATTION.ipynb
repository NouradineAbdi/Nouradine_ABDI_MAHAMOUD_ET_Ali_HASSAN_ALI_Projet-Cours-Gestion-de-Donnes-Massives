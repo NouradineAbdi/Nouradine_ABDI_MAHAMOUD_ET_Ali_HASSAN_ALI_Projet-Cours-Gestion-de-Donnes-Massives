{
 "cells": [
  {
   "cell_type": "code",
   "execution_count": 1,
   "metadata": {},
   "outputs": [],
   "source": [
    "#importation du package\n",
    "import h2o"
   ]
  },
  {
   "cell_type": "code",
   "execution_count": 2,
   "metadata": {},
   "outputs": [
    {
     "name": "stdout",
     "output_type": "stream",
     "text": [
      "Checking whether there is an H2O instance running at http://localhost:54321 ..... not found.\n",
      "Attempting to start a local H2O server...\n",
      "; Java HotSpot(TM) Client VM (build 25.45-b02, mixed mode, sharing)\n"
     ]
    },
    {
     "name": "stderr",
     "output_type": "stream",
     "text": [
      "C:\\ProgramData\\Anaconda3\\lib\\site-packages\\h2o\\backend\\server.py:385: UserWarning:   You have a 32-bit version of Java. H2O works best with 64-bit Java.\n",
      "  Please download the latest 64-bit Java SE JDK from Oracle.\n",
      "\n",
      "  warn(\"  You have a 32-bit version of Java. H2O works best with 64-bit Java.\\n\"\n"
     ]
    },
    {
     "name": "stdout",
     "output_type": "stream",
     "text": [
      "  Starting server from C:\\ProgramData\\Anaconda3\\lib\\site-packages\\h2o\\backend\\bin\\h2o.jar\n",
      "  Ice root: C:\\Users\\ADMINI~1\\AppData\\Local\\Temp\\tmps6p5qzdx\n",
      "  JVM stdout: C:\\Users\\ADMINI~1\\AppData\\Local\\Temp\\tmps6p5qzdx\\h2o_Administrateur_started_from_python.out\n",
      "  JVM stderr: C:\\Users\\ADMINI~1\\AppData\\Local\\Temp\\tmps6p5qzdx\\h2o_Administrateur_started_from_python.err\n",
      "  Server is running at http://127.0.0.1:54321\n",
      "Connecting to H2O server at http://127.0.0.1:54321 ... successful.\n"
     ]
    },
    {
     "data": {
      "text/html": [
       "<div style=\"overflow:auto\"><table style=\"width:50%\"><tr><td>H2O_cluster_uptime:</td>\n",
       "<td>04 secs</td></tr>\n",
       "<tr><td>H2O_cluster_timezone:</td>\n",
       "<td>Europe/Paris</td></tr>\n",
       "<tr><td>H2O_data_parsing_timezone:</td>\n",
       "<td>UTC</td></tr>\n",
       "<tr><td>H2O_cluster_version:</td>\n",
       "<td>3.32.0.2</td></tr>\n",
       "<tr><td>H2O_cluster_version_age:</td>\n",
       "<td>2 months and 18 days </td></tr>\n",
       "<tr><td>H2O_cluster_name:</td>\n",
       "<td>H2O_from_python_Administrateur_vo6v8z</td></tr>\n",
       "<tr><td>H2O_cluster_total_nodes:</td>\n",
       "<td>1</td></tr>\n",
       "<tr><td>H2O_cluster_free_memory:</td>\n",
       "<td>247.5 Mb</td></tr>\n",
       "<tr><td>H2O_cluster_total_cores:</td>\n",
       "<td>0</td></tr>\n",
       "<tr><td>H2O_cluster_allowed_cores:</td>\n",
       "<td>0</td></tr>\n",
       "<tr><td>H2O_cluster_status:</td>\n",
       "<td>accepting new members, healthy</td></tr>\n",
       "<tr><td>H2O_connection_url:</td>\n",
       "<td>http://127.0.0.1:54321</td></tr>\n",
       "<tr><td>H2O_connection_proxy:</td>\n",
       "<td>{\"http\": null, \"https\": null}</td></tr>\n",
       "<tr><td>H2O_internal_security:</td>\n",
       "<td>False</td></tr>\n",
       "<tr><td>H2O_API_Extensions:</td>\n",
       "<td>Amazon S3, Algos, AutoML, Core V3, TargetEncoder, Core V4</td></tr>\n",
       "<tr><td>Python_version:</td>\n",
       "<td>3.7.4 final</td></tr></table></div>"
      ],
      "text/plain": [
       "--------------------------  ---------------------------------------------------------\n",
       "H2O_cluster_uptime:         04 secs\n",
       "H2O_cluster_timezone:       Europe/Paris\n",
       "H2O_data_parsing_timezone:  UTC\n",
       "H2O_cluster_version:        3.32.0.2\n",
       "H2O_cluster_version_age:    2 months and 18 days\n",
       "H2O_cluster_name:           H2O_from_python_Administrateur_vo6v8z\n",
       "H2O_cluster_total_nodes:    1\n",
       "H2O_cluster_free_memory:    247.5 Mb\n",
       "H2O_cluster_total_cores:    0\n",
       "H2O_cluster_allowed_cores:  0\n",
       "H2O_cluster_status:         accepting new members, healthy\n",
       "H2O_connection_url:         http://127.0.0.1:54321\n",
       "H2O_connection_proxy:       {\"http\": null, \"https\": null}\n",
       "H2O_internal_security:      False\n",
       "H2O_API_Extensions:         Amazon S3, Algos, AutoML, Core V3, TargetEncoder, Core V4\n",
       "Python_version:             3.7.4 final\n",
       "--------------------------  ---------------------------------------------------------"
      ]
     },
     "metadata": {},
     "output_type": "display_data"
    }
   ],
   "source": [
    "#démarrage H2O\n",
    "h2o.init()"
   ]
  },
  {
   "cell_type": "markdown",
   "metadata": {},
   "source": [
    "# Prétraitement des données"
   ]
  },
  {
   "cell_type": "code",
   "execution_count": 3,
   "metadata": {},
   "outputs": [],
   "source": [
    "#changer le répertoire courant\n",
    "import os\n",
    "os.chdir(\"C:/Users/Administrateur/Documents/H20 ipynb\")"
   ]
  },
  {
   "cell_type": "code",
   "execution_count": 4,
   "metadata": {},
   "outputs": [
    {
     "name": "stdout",
     "output_type": "stream",
     "text": [
      "Parse progress: |█████████████████████████████████████████████████████████| 100%\n"
     ]
    }
   ],
   "source": [
    "#chargement des données\n",
    "cardio = h2o.import_file(\"cardio.csv\")"
   ]
  },
  {
   "cell_type": "code",
   "execution_count": 5,
   "metadata": {},
   "outputs": [
    {
     "data": {
      "text/html": [
       "<table>\n",
       "<thead>\n",
       "<tr><th style=\"text-align: right;\">  id</th><th style=\"text-align: right;\">  age</th><th style=\"text-align: right;\">  gender</th><th style=\"text-align: right;\">  height</th><th style=\"text-align: right;\">  weight</th><th style=\"text-align: right;\">  ap_hi</th><th style=\"text-align: right;\">  ap_lo</th><th style=\"text-align: right;\">  cholesterol</th><th style=\"text-align: right;\">  gluc</th><th style=\"text-align: right;\">  smoke</th><th style=\"text-align: right;\">  alco</th><th style=\"text-align: right;\">  active</th><th style=\"text-align: right;\">  cardio</th></tr>\n",
       "</thead>\n",
       "<tbody>\n",
       "<tr><td style=\"text-align: right;\">   0</td><td style=\"text-align: right;\">18393</td><td style=\"text-align: right;\">       2</td><td style=\"text-align: right;\">     168</td><td style=\"text-align: right;\">      62</td><td style=\"text-align: right;\">    110</td><td style=\"text-align: right;\">     80</td><td style=\"text-align: right;\">            1</td><td style=\"text-align: right;\">     1</td><td style=\"text-align: right;\">      0</td><td style=\"text-align: right;\">     0</td><td style=\"text-align: right;\">       1</td><td style=\"text-align: right;\">       0</td></tr>\n",
       "<tr><td style=\"text-align: right;\">   1</td><td style=\"text-align: right;\">20228</td><td style=\"text-align: right;\">       1</td><td style=\"text-align: right;\">     156</td><td style=\"text-align: right;\">      85</td><td style=\"text-align: right;\">    140</td><td style=\"text-align: right;\">     90</td><td style=\"text-align: right;\">            3</td><td style=\"text-align: right;\">     1</td><td style=\"text-align: right;\">      0</td><td style=\"text-align: right;\">     0</td><td style=\"text-align: right;\">       1</td><td style=\"text-align: right;\">       1</td></tr>\n",
       "<tr><td style=\"text-align: right;\">   2</td><td style=\"text-align: right;\">18857</td><td style=\"text-align: right;\">       1</td><td style=\"text-align: right;\">     165</td><td style=\"text-align: right;\">      64</td><td style=\"text-align: right;\">    130</td><td style=\"text-align: right;\">     70</td><td style=\"text-align: right;\">            3</td><td style=\"text-align: right;\">     1</td><td style=\"text-align: right;\">      0</td><td style=\"text-align: right;\">     0</td><td style=\"text-align: right;\">       0</td><td style=\"text-align: right;\">       1</td></tr>\n",
       "<tr><td style=\"text-align: right;\">   3</td><td style=\"text-align: right;\">17623</td><td style=\"text-align: right;\">       2</td><td style=\"text-align: right;\">     169</td><td style=\"text-align: right;\">      82</td><td style=\"text-align: right;\">    150</td><td style=\"text-align: right;\">    100</td><td style=\"text-align: right;\">            1</td><td style=\"text-align: right;\">     1</td><td style=\"text-align: right;\">      0</td><td style=\"text-align: right;\">     0</td><td style=\"text-align: right;\">       1</td><td style=\"text-align: right;\">       1</td></tr>\n",
       "<tr><td style=\"text-align: right;\">   4</td><td style=\"text-align: right;\">17474</td><td style=\"text-align: right;\">       1</td><td style=\"text-align: right;\">     156</td><td style=\"text-align: right;\">      56</td><td style=\"text-align: right;\">    100</td><td style=\"text-align: right;\">     60</td><td style=\"text-align: right;\">            1</td><td style=\"text-align: right;\">     1</td><td style=\"text-align: right;\">      0</td><td style=\"text-align: right;\">     0</td><td style=\"text-align: right;\">       0</td><td style=\"text-align: right;\">       0</td></tr>\n",
       "<tr><td style=\"text-align: right;\">   8</td><td style=\"text-align: right;\">21914</td><td style=\"text-align: right;\">       1</td><td style=\"text-align: right;\">     151</td><td style=\"text-align: right;\">      67</td><td style=\"text-align: right;\">    120</td><td style=\"text-align: right;\">     80</td><td style=\"text-align: right;\">            2</td><td style=\"text-align: right;\">     2</td><td style=\"text-align: right;\">      0</td><td style=\"text-align: right;\">     0</td><td style=\"text-align: right;\">       0</td><td style=\"text-align: right;\">       0</td></tr>\n",
       "<tr><td style=\"text-align: right;\">   9</td><td style=\"text-align: right;\">22113</td><td style=\"text-align: right;\">       1</td><td style=\"text-align: right;\">     157</td><td style=\"text-align: right;\">      93</td><td style=\"text-align: right;\">    130</td><td style=\"text-align: right;\">     80</td><td style=\"text-align: right;\">            3</td><td style=\"text-align: right;\">     1</td><td style=\"text-align: right;\">      0</td><td style=\"text-align: right;\">     0</td><td style=\"text-align: right;\">       1</td><td style=\"text-align: right;\">       0</td></tr>\n",
       "<tr><td style=\"text-align: right;\">  12</td><td style=\"text-align: right;\">22584</td><td style=\"text-align: right;\">       2</td><td style=\"text-align: right;\">     178</td><td style=\"text-align: right;\">      95</td><td style=\"text-align: right;\">    130</td><td style=\"text-align: right;\">     90</td><td style=\"text-align: right;\">            3</td><td style=\"text-align: right;\">     3</td><td style=\"text-align: right;\">      0</td><td style=\"text-align: right;\">     0</td><td style=\"text-align: right;\">       1</td><td style=\"text-align: right;\">       1</td></tr>\n",
       "<tr><td style=\"text-align: right;\">  13</td><td style=\"text-align: right;\">17668</td><td style=\"text-align: right;\">       1</td><td style=\"text-align: right;\">     158</td><td style=\"text-align: right;\">      71</td><td style=\"text-align: right;\">    110</td><td style=\"text-align: right;\">     70</td><td style=\"text-align: right;\">            1</td><td style=\"text-align: right;\">     1</td><td style=\"text-align: right;\">      0</td><td style=\"text-align: right;\">     0</td><td style=\"text-align: right;\">       1</td><td style=\"text-align: right;\">       0</td></tr>\n",
       "<tr><td style=\"text-align: right;\">  14</td><td style=\"text-align: right;\">19834</td><td style=\"text-align: right;\">       1</td><td style=\"text-align: right;\">     164</td><td style=\"text-align: right;\">      68</td><td style=\"text-align: right;\">    110</td><td style=\"text-align: right;\">     60</td><td style=\"text-align: right;\">            1</td><td style=\"text-align: right;\">     1</td><td style=\"text-align: right;\">      0</td><td style=\"text-align: right;\">     0</td><td style=\"text-align: right;\">       0</td><td style=\"text-align: right;\">       0</td></tr>\n",
       "</tbody>\n",
       "</table>"
      ]
     },
     "metadata": {},
     "output_type": "display_data"
    },
    {
     "name": "stdout",
     "output_type": "stream",
     "text": [
      "\n"
     ]
    }
   ],
   "source": [
    "#affichage des premières valeurs\n",
    "print(cardio.head(10))"
   ]
  },
  {
   "cell_type": "code",
   "execution_count": 6,
   "metadata": {},
   "outputs": [
    {
     "name": "stdout",
     "output_type": "stream",
     "text": [
      "<class 'h2o.frame.H2OFrame'>\n"
     ]
    }
   ],
   "source": [
    "#affichage du type\n",
    "print(type(cardio))"
   ]
  },
  {
   "cell_type": "code",
   "execution_count": 7,
   "metadata": {},
   "outputs": [
    {
     "name": "stdout",
     "output_type": "stream",
     "text": [
      "(70000, 13)\n"
     ]
    }
   ],
   "source": [
    "#dimension\n",
    "print(cardio.shape)"
   ]
  },
  {
   "cell_type": "code",
   "execution_count": 8,
   "metadata": {},
   "outputs": [
    {
     "name": "stdout",
     "output_type": "stream",
     "text": [
      "['id', 'age', 'gender', 'height', 'weight', 'ap_hi', 'ap_lo', 'cholesterol', 'gluc', 'smoke', 'alco', 'active', 'cardio']\n"
     ]
    }
   ],
   "source": [
    "#affichage de la liste des colonnes\n",
    "print(cardio.col_names)"
   ]
  },
  {
   "cell_type": "code",
   "execution_count": 9,
   "metadata": {},
   "outputs": [
    {
     "name": "stdout",
     "output_type": "stream",
     "text": [
      "Rows:70000\n",
      "Cols:13\n",
      "\n",
      "\n"
     ]
    },
    {
     "data": {
      "text/html": [
       "<table>\n",
       "<thead>\n",
       "<tr><th>       </th><th>id               </th><th>age               </th><th>gender            </th><th>height            </th><th>weight            </th><th>ap_hi             </th><th>ap_lo            </th><th>cholesterol       </th><th>gluc              </th><th>smoke              </th><th>alco                </th><th>active            </th><th>cardio            </th></tr>\n",
       "</thead>\n",
       "<tbody>\n",
       "<tr><td>type   </td><td>int              </td><td>int               </td><td>int               </td><td>int               </td><td>real              </td><td>int               </td><td>int              </td><td>int               </td><td>int               </td><td>int                </td><td>int                 </td><td>int               </td><td>int               </td></tr>\n",
       "<tr><td>mins   </td><td>0.0              </td><td>10798.0           </td><td>1.0               </td><td>55.0              </td><td>10.0              </td><td>-150.0            </td><td>-70.0            </td><td>1.0               </td><td>1.0               </td><td>0.0                </td><td>0.0                 </td><td>0.0               </td><td>0.0               </td></tr>\n",
       "<tr><td>mean   </td><td>49972.41989999998</td><td>19468.86581428571 </td><td>1.3495714285714273</td><td>164.35922857142862</td><td>74.20568999999999 </td><td>128.81728571428567</td><td>96.63041428571428</td><td>1.3668714285714283</td><td>1.2264571428571436</td><td>0.08812857142857143</td><td>0.053771428571428574</td><td>0.8037285714285715</td><td>0.4997            </td></tr>\n",
       "<tr><td>maxs   </td><td>99999.0          </td><td>23713.0           </td><td>2.0               </td><td>250.0             </td><td>200.0             </td><td>16020.0           </td><td>11000.0          </td><td>3.0               </td><td>3.0               </td><td>1.0                </td><td>1.0                 </td><td>1.0               </td><td>1.0               </td></tr>\n",
       "<tr><td>sigma  </td><td>28851.30232317291</td><td>2467.2516672414017</td><td>0.4768380155828637</td><td>8.210126364538034 </td><td>14.395756678511377</td><td>154.01141945609132</td><td>188.4725302963903</td><td>0.6802503486993811</td><td>0.5722702766138451</td><td>0.2834838167699352 </td><td>0.22556770360410489 </td><td>0.3971790635049283</td><td>0.5000034814661862</td></tr>\n",
       "<tr><td>zeros  </td><td>1                </td><td>0                 </td><td>0                 </td><td>0                 </td><td>0                 </td><td>0                 </td><td>21               </td><td>0                 </td><td>0                 </td><td>63831              </td><td>66236               </td><td>13739             </td><td>35021             </td></tr>\n",
       "<tr><td>missing</td><td>0                </td><td>0                 </td><td>0                 </td><td>0                 </td><td>0                 </td><td>0                 </td><td>0                </td><td>0                 </td><td>0                 </td><td>0                  </td><td>0                   </td><td>0                 </td><td>0                 </td></tr>\n",
       "<tr><td>0      </td><td>0.0              </td><td>18393.0           </td><td>2.0               </td><td>168.0             </td><td>62.0              </td><td>110.0             </td><td>80.0             </td><td>1.0               </td><td>1.0               </td><td>0.0                </td><td>0.0                 </td><td>1.0               </td><td>0.0               </td></tr>\n",
       "<tr><td>1      </td><td>1.0              </td><td>20228.0           </td><td>1.0               </td><td>156.0             </td><td>85.0              </td><td>140.0             </td><td>90.0             </td><td>3.0               </td><td>1.0               </td><td>0.0                </td><td>0.0                 </td><td>1.0               </td><td>1.0               </td></tr>\n",
       "<tr><td>2      </td><td>2.0              </td><td>18857.0           </td><td>1.0               </td><td>165.0             </td><td>64.0              </td><td>130.0             </td><td>70.0             </td><td>3.0               </td><td>1.0               </td><td>0.0                </td><td>0.0                 </td><td>0.0               </td><td>1.0               </td></tr>\n",
       "<tr><td>3      </td><td>3.0              </td><td>17623.0           </td><td>2.0               </td><td>169.0             </td><td>82.0              </td><td>150.0             </td><td>100.0            </td><td>1.0               </td><td>1.0               </td><td>0.0                </td><td>0.0                 </td><td>1.0               </td><td>1.0               </td></tr>\n",
       "<tr><td>4      </td><td>4.0              </td><td>17474.0           </td><td>1.0               </td><td>156.0             </td><td>56.0              </td><td>100.0             </td><td>60.0             </td><td>1.0               </td><td>1.0               </td><td>0.0                </td><td>0.0                 </td><td>0.0               </td><td>0.0               </td></tr>\n",
       "<tr><td>5      </td><td>8.0              </td><td>21914.0           </td><td>1.0               </td><td>151.0             </td><td>67.0              </td><td>120.0             </td><td>80.0             </td><td>2.0               </td><td>2.0               </td><td>0.0                </td><td>0.0                 </td><td>0.0               </td><td>0.0               </td></tr>\n",
       "<tr><td>6      </td><td>9.0              </td><td>22113.0           </td><td>1.0               </td><td>157.0             </td><td>93.0              </td><td>130.0             </td><td>80.0             </td><td>3.0               </td><td>1.0               </td><td>0.0                </td><td>0.0                 </td><td>1.0               </td><td>0.0               </td></tr>\n",
       "<tr><td>7      </td><td>12.0             </td><td>22584.0           </td><td>2.0               </td><td>178.0             </td><td>95.0              </td><td>130.0             </td><td>90.0             </td><td>3.0               </td><td>3.0               </td><td>0.0                </td><td>0.0                 </td><td>1.0               </td><td>1.0               </td></tr>\n",
       "<tr><td>8      </td><td>13.0             </td><td>17668.0           </td><td>1.0               </td><td>158.0             </td><td>71.0              </td><td>110.0             </td><td>70.0             </td><td>1.0               </td><td>1.0               </td><td>0.0                </td><td>0.0                 </td><td>1.0               </td><td>0.0               </td></tr>\n",
       "<tr><td>9      </td><td>14.0             </td><td>19834.0           </td><td>1.0               </td><td>164.0             </td><td>68.0              </td><td>110.0             </td><td>60.0             </td><td>1.0               </td><td>1.0               </td><td>0.0                </td><td>0.0                 </td><td>0.0               </td><td>0.0               </td></tr>\n",
       "</tbody>\n",
       "</table>"
      ]
     },
     "metadata": {},
     "output_type": "display_data"
    }
   ],
   "source": [
    "# Resume de donnée\n",
    "cardio.describe()"
   ]
  },
  {
   "cell_type": "code",
   "execution_count": 10,
   "metadata": {},
   "outputs": [
    {
     "data": {
      "text/plain": [
       "{'id': 'int',\n",
       " 'age': 'int',\n",
       " 'gender': 'int',\n",
       " 'height': 'int',\n",
       " 'weight': 'real',\n",
       " 'ap_hi': 'int',\n",
       " 'ap_lo': 'int',\n",
       " 'cholesterol': 'int',\n",
       " 'gluc': 'int',\n",
       " 'smoke': 'int',\n",
       " 'alco': 'int',\n",
       " 'active': 'int',\n",
       " 'cardio': 'int'}"
      ]
     },
     "execution_count": 10,
     "metadata": {},
     "output_type": "execute_result"
    }
   ],
   "source": [
    "# vérifier les types de données analysés par H2O\n",
    "cardio.types"
   ]
  },
  {
   "cell_type": "code",
   "execution_count": 11,
   "metadata": {},
   "outputs": [],
   "source": [
    "cardio[\"cardio\"] = cardio[\"cardio\"].asfactor()"
   ]
  },
  {
   "cell_type": "code",
   "execution_count": 12,
   "metadata": {},
   "outputs": [
    {
     "data": {
      "text/plain": [
       "[True]"
      ]
     },
     "execution_count": 12,
     "metadata": {},
     "output_type": "execute_result"
    }
   ],
   "source": [
    "#cardio est bien un type facteur\n",
    "cardio['cardio'].isfactor() "
   ]
  },
  {
   "cell_type": "code",
   "execution_count": 13,
   "metadata": {},
   "outputs": [
    {
     "data": {
      "text/plain": [
       "[['0', '1']]"
      ]
     },
     "execution_count": 13,
     "metadata": {},
     "output_type": "execute_result"
    }
   ],
   "source": [
    "#nombre de niveaux (modalités) de \"diabete\"\n",
    "cardio['cardio'].levels()"
   ]
  },
  {
   "cell_type": "markdown",
   "metadata": {},
   "source": [
    "# Subdivision en échantillons d’apprentissage et de test"
   ]
  },
  {
   "cell_type": "code",
   "execution_count": 14,
   "metadata": {},
   "outputs": [],
   "source": [
    "#subdivision\n",
    "cardioTrain,cardioTest = cardio.split_frame(ratios=[0.8],seed=1)"
   ]
  },
  {
   "cell_type": "code",
   "execution_count": 15,
   "metadata": {},
   "outputs": [
    {
     "data": {
      "text/plain": [
       "(56007, 13)"
      ]
     },
     "execution_count": 15,
     "metadata": {},
     "output_type": "execute_result"
    }
   ],
   "source": [
    "#vérification train\n",
    "cardioTrain.shape"
   ]
  },
  {
   "cell_type": "code",
   "execution_count": 16,
   "metadata": {},
   "outputs": [
    {
     "data": {
      "text/plain": [
       "(13993, 13)"
      ]
     },
     "execution_count": 16,
     "metadata": {},
     "output_type": "execute_result"
    }
   ],
   "source": [
    "#vérification test\n",
    "cardioTest.shape"
   ]
  },
  {
   "cell_type": "markdown",
   "metadata": {},
   "source": [
    "# IMPLEMENTATION DES ALGORITHMES "
   ]
  },
  {
   "cell_type": "markdown",
   "metadata": {},
   "source": [
    "# ALGORITHME DE LSC"
   ]
  },
  {
   "cell_type": "code",
   "execution_count": 25,
   "metadata": {},
   "outputs": [
    {
     "ename": "AttributeError",
     "evalue": "'H2OFrame' object has no attribute 'as_np'",
     "output_type": "error",
     "traceback": [
      "\u001b[1;31m---------------------------------------------------------------------------\u001b[0m",
      "\u001b[1;31mAttributeError\u001b[0m                            Traceback (most recent call last)",
      "\u001b[1;32m<ipython-input-25-ab59f6767f29>\u001b[0m in \u001b[0;36m<module>\u001b[1;34m\u001b[0m\n\u001b[0;32m     73\u001b[0m \u001b[0mtest2\u001b[0m\u001b[1;33m=\u001b[0m\u001b[1;32mTrue\u001b[0m\u001b[1;33m\u001b[0m\u001b[1;33m\u001b[0m\u001b[0m\n\u001b[0;32m     74\u001b[0m \u001b[1;32mif\u001b[0m \u001b[0mtest2\u001b[0m\u001b[1;33m:\u001b[0m\u001b[1;33m\u001b[0m\u001b[1;33m\u001b[0m\u001b[0m\n\u001b[1;32m---> 75\u001b[1;33m     \u001b[0mX\u001b[0m\u001b[1;33m,\u001b[0m\u001b[0my\u001b[0m\u001b[1;33m=\u001b[0m\u001b[0mcardioTrain\u001b[0m\u001b[1;33m.\u001b[0m\u001b[0mas_np\u001b[0m\u001b[1;33m(\u001b[0m\u001b[1;33m)\u001b[0m\u001b[1;33m,\u001b[0m\u001b[0mcardioTest\u001b[0m\u001b[1;33m.\u001b[0m\u001b[0mas_np\u001b[0m\u001b[1;33m(\u001b[0m\u001b[1;33m)\u001b[0m\u001b[1;33m\u001b[0m\u001b[1;33m\u001b[0m\u001b[0m\n\u001b[0m\u001b[0;32m     76\u001b[0m     \u001b[0mlabels\u001b[0m\u001b[1;33m=\u001b[0m\u001b[0mLSC_Clustering\u001b[0m\u001b[1;33m(\u001b[0m\u001b[0mX\u001b[0m\u001b[1;33m,\u001b[0m \u001b[1;36m2\u001b[0m\u001b[1;33m,\u001b[0m \u001b[1;36m4\u001b[0m\u001b[1;33m,\u001b[0m \u001b[1;34m\"Kmeans\"\u001b[0m\u001b[1;33m,\u001b[0m \u001b[1;36m4\u001b[0m\u001b[1;33m,\u001b[0m \u001b[1;36m0.5\u001b[0m\u001b[1;33m)\u001b[0m\u001b[1;33m.\u001b[0m\u001b[0mlabels_\u001b[0m\u001b[1;33m\u001b[0m\u001b[1;33m\u001b[0m\u001b[0m\n\u001b[0;32m     77\u001b[0m \u001b[1;33m\u001b[0m\u001b[0m\n",
      "\u001b[1;31mAttributeError\u001b[0m: 'H2OFrame' object has no attribute 'as_np'"
     ]
    }
   ],
   "source": [
    "import numpy as np\n",
    "import matplotlib.pyplot as plt\n",
    "from sklearn.cluster import KMeans\n",
    "from sklearn.datasets import make_blobs\n",
    "from sklearn.metrics.pairwise import pairwise_distances\n",
    "import scipy\n",
    "\n",
    "\n",
    "def find_p(X, start=1, end=10):\n",
    "    \n",
    "    min_size=[]\n",
    "    number_of_clusters=[]\n",
    "    for i in range(start,end+1):\n",
    "        min_size.append(i)   \n",
    "        number_of_clusters.append(KMeans(n_clusters=i).fit(X).inertia_)\n",
    "    _, ax=plt.subplots()\n",
    "    \n",
    "    ax.set(ylabel='Inertia', xlabel='Number of clusters', title='The elbow method')\n",
    "    plt.xticks(np.arange(start,end, 1))    \n",
    "    plt.plot(min_size,number_of_clusters)\n",
    "    plt.show()    \n",
    "\n",
    "def get_Landmarks(X, p, method=\"random\"):\n",
    "    if method==\"random\":\n",
    "        N = len(X)\n",
    "        perm= np.random.permutation(np.arange(N))\n",
    "        print(perm)\n",
    "        landmarks = X[perm[:p],:]\n",
    "        return landmarks\n",
    "    else:\n",
    "        kmeans_model=KMeans(n_clusters=p).fit(X)\n",
    "        return kmeans_model.cluster_centers_\n",
    "\n",
    "\n",
    "def gaussian_kernel(dist_mat, bandwidth):\n",
    "    return np.exp(-dist_mat / (2*bandwidth**2))\n",
    "\n",
    "def compose_Sparse_ZHat_Matrix(X, landmarks, bandwidth, r):\n",
    "    dist_mat=pairwise_distances(X,landmarks)\n",
    "    sim_mat=gaussian_kernel(dist_mat, bandwidth)\n",
    "    \n",
    "    Zhat = np.zeros(sim_mat.shape)\n",
    "\n",
    "    for i in range(Zhat.shape[0]):\n",
    "        #may need j.sort.selectperm\n",
    "        top_Landmarks_indices = np.argsort(-sim_mat[i,:])[:r]\n",
    "        top_Landmarks_coefs = sim_mat[i,top_Landmarks_indices]\n",
    "        top_Landmarks_coefs /= np.sum(top_Landmarks_coefs)\n",
    "        Zhat[i, top_Landmarks_indices] = top_Landmarks_coefs\n",
    "    #May be wrong    \n",
    "    diagm=np.sum(Zhat, axis=0)**(-1/2)\n",
    "    return diagm*Zhat\n",
    "\n",
    "def LSC_Clustering(X, n_clusters, n_landmarks, method, non_zero_landmark_weights, bandwidth):\n",
    "    landmarks = get_Landmarks(X, n_landmarks, method)\n",
    "    Zhat = compose_Sparse_ZHat_Matrix(X, landmarks, bandwidth, non_zero_landmark_weights)\n",
    "    svd_result = np.linalg.svd(Zhat, full_matrices=False)[0]\n",
    "    clustering_result = KMeans(n_clusters=n_clusters).fit(svd_result)\n",
    "    return clustering_result\n",
    "#Test get_Landmarks\n",
    "test1=False\n",
    "if test1:\n",
    "    X,y= cardioTrain.as_np(),cardioTest.as_np()\n",
    "\n",
    "    landmarks_rand=get_Landmarks(X,2)\n",
    "    print(landmarks_rand)\n",
    "\n",
    "    landmarks_kmeans=get_Landmarks(X,2,\"KMeans\")\n",
    "    print(landmarks_kmeans)\n",
    "    find_p(X)\n",
    "    print(compose_Sparse_ZHat_Matrix(X, landmarks_kmeans, 1, 5))\n",
    "\n",
    "test2=True\n",
    "if test2:\n",
    "    X,y=cardioTrain.as_np(),cardioTest.as_np()\n",
    "    labels=LSC_Clustering(X, 2, 4, \"Kmeans\", 4, 0.5).labels_\n",
    "    \n",
    "    plt.scatter(X[:,0],X[:,1], c=labels)\n",
    "    plt.show()"
   ]
  },
  {
   "cell_type": "code",
   "execution_count": 32,
   "metadata": {},
   "outputs": [],
   "source": [
    "# Importation des bibliothèques principales\n",
    "import pandas as pd\n",
    "import numpy as np\n",
    "import seaborn as sns\n",
    "import matplotlib.pyplot as plt"
   ]
  },
  {
   "cell_type": "code",
   "execution_count": 34,
   "metadata": {},
   "outputs": [],
   "source": [
    "# Lecture des données\n",
    "cardio = pd.read_csv('cardio.csv',sep=\";\",header=0,index_col=0)"
   ]
  },
  {
   "cell_type": "code",
   "execution_count": 35,
   "metadata": {},
   "outputs": [
    {
     "data": {
      "text/html": [
       "<div>\n",
       "<style scoped>\n",
       "    .dataframe tbody tr th:only-of-type {\n",
       "        vertical-align: middle;\n",
       "    }\n",
       "\n",
       "    .dataframe tbody tr th {\n",
       "        vertical-align: top;\n",
       "    }\n",
       "\n",
       "    .dataframe thead th {\n",
       "        text-align: right;\n",
       "    }\n",
       "</style>\n",
       "<table border=\"1\" class=\"dataframe\">\n",
       "  <thead>\n",
       "    <tr style=\"text-align: right;\">\n",
       "      <th></th>\n",
       "      <th>age</th>\n",
       "      <th>gender</th>\n",
       "      <th>height</th>\n",
       "      <th>weight</th>\n",
       "      <th>ap_hi</th>\n",
       "      <th>ap_lo</th>\n",
       "      <th>cholesterol</th>\n",
       "      <th>gluc</th>\n",
       "      <th>smoke</th>\n",
       "      <th>alco</th>\n",
       "      <th>active</th>\n",
       "      <th>cardio</th>\n",
       "    </tr>\n",
       "    <tr>\n",
       "      <th>id</th>\n",
       "      <th></th>\n",
       "      <th></th>\n",
       "      <th></th>\n",
       "      <th></th>\n",
       "      <th></th>\n",
       "      <th></th>\n",
       "      <th></th>\n",
       "      <th></th>\n",
       "      <th></th>\n",
       "      <th></th>\n",
       "      <th></th>\n",
       "      <th></th>\n",
       "    </tr>\n",
       "  </thead>\n",
       "  <tbody>\n",
       "    <tr>\n",
       "      <td>0</td>\n",
       "      <td>18393</td>\n",
       "      <td>2</td>\n",
       "      <td>168</td>\n",
       "      <td>62.0</td>\n",
       "      <td>110</td>\n",
       "      <td>80</td>\n",
       "      <td>1</td>\n",
       "      <td>1</td>\n",
       "      <td>0</td>\n",
       "      <td>0</td>\n",
       "      <td>1</td>\n",
       "      <td>0</td>\n",
       "    </tr>\n",
       "    <tr>\n",
       "      <td>1</td>\n",
       "      <td>20228</td>\n",
       "      <td>1</td>\n",
       "      <td>156</td>\n",
       "      <td>85.0</td>\n",
       "      <td>140</td>\n",
       "      <td>90</td>\n",
       "      <td>3</td>\n",
       "      <td>1</td>\n",
       "      <td>0</td>\n",
       "      <td>0</td>\n",
       "      <td>1</td>\n",
       "      <td>1</td>\n",
       "    </tr>\n",
       "    <tr>\n",
       "      <td>2</td>\n",
       "      <td>18857</td>\n",
       "      <td>1</td>\n",
       "      <td>165</td>\n",
       "      <td>64.0</td>\n",
       "      <td>130</td>\n",
       "      <td>70</td>\n",
       "      <td>3</td>\n",
       "      <td>1</td>\n",
       "      <td>0</td>\n",
       "      <td>0</td>\n",
       "      <td>0</td>\n",
       "      <td>1</td>\n",
       "    </tr>\n",
       "    <tr>\n",
       "      <td>3</td>\n",
       "      <td>17623</td>\n",
       "      <td>2</td>\n",
       "      <td>169</td>\n",
       "      <td>82.0</td>\n",
       "      <td>150</td>\n",
       "      <td>100</td>\n",
       "      <td>1</td>\n",
       "      <td>1</td>\n",
       "      <td>0</td>\n",
       "      <td>0</td>\n",
       "      <td>1</td>\n",
       "      <td>1</td>\n",
       "    </tr>\n",
       "    <tr>\n",
       "      <td>4</td>\n",
       "      <td>17474</td>\n",
       "      <td>1</td>\n",
       "      <td>156</td>\n",
       "      <td>56.0</td>\n",
       "      <td>100</td>\n",
       "      <td>60</td>\n",
       "      <td>1</td>\n",
       "      <td>1</td>\n",
       "      <td>0</td>\n",
       "      <td>0</td>\n",
       "      <td>0</td>\n",
       "      <td>0</td>\n",
       "    </tr>\n",
       "    <tr>\n",
       "      <td>...</td>\n",
       "      <td>...</td>\n",
       "      <td>...</td>\n",
       "      <td>...</td>\n",
       "      <td>...</td>\n",
       "      <td>...</td>\n",
       "      <td>...</td>\n",
       "      <td>...</td>\n",
       "      <td>...</td>\n",
       "      <td>...</td>\n",
       "      <td>...</td>\n",
       "      <td>...</td>\n",
       "      <td>...</td>\n",
       "    </tr>\n",
       "    <tr>\n",
       "      <td>99993</td>\n",
       "      <td>19240</td>\n",
       "      <td>2</td>\n",
       "      <td>168</td>\n",
       "      <td>76.0</td>\n",
       "      <td>120</td>\n",
       "      <td>80</td>\n",
       "      <td>1</td>\n",
       "      <td>1</td>\n",
       "      <td>1</td>\n",
       "      <td>0</td>\n",
       "      <td>1</td>\n",
       "      <td>0</td>\n",
       "    </tr>\n",
       "    <tr>\n",
       "      <td>99995</td>\n",
       "      <td>22601</td>\n",
       "      <td>1</td>\n",
       "      <td>158</td>\n",
       "      <td>126.0</td>\n",
       "      <td>140</td>\n",
       "      <td>90</td>\n",
       "      <td>2</td>\n",
       "      <td>2</td>\n",
       "      <td>0</td>\n",
       "      <td>0</td>\n",
       "      <td>1</td>\n",
       "      <td>1</td>\n",
       "    </tr>\n",
       "    <tr>\n",
       "      <td>99996</td>\n",
       "      <td>19066</td>\n",
       "      <td>2</td>\n",
       "      <td>183</td>\n",
       "      <td>105.0</td>\n",
       "      <td>180</td>\n",
       "      <td>90</td>\n",
       "      <td>3</td>\n",
       "      <td>1</td>\n",
       "      <td>0</td>\n",
       "      <td>1</td>\n",
       "      <td>0</td>\n",
       "      <td>1</td>\n",
       "    </tr>\n",
       "    <tr>\n",
       "      <td>99998</td>\n",
       "      <td>22431</td>\n",
       "      <td>1</td>\n",
       "      <td>163</td>\n",
       "      <td>72.0</td>\n",
       "      <td>135</td>\n",
       "      <td>80</td>\n",
       "      <td>1</td>\n",
       "      <td>2</td>\n",
       "      <td>0</td>\n",
       "      <td>0</td>\n",
       "      <td>0</td>\n",
       "      <td>1</td>\n",
       "    </tr>\n",
       "    <tr>\n",
       "      <td>99999</td>\n",
       "      <td>20540</td>\n",
       "      <td>1</td>\n",
       "      <td>170</td>\n",
       "      <td>72.0</td>\n",
       "      <td>120</td>\n",
       "      <td>80</td>\n",
       "      <td>2</td>\n",
       "      <td>1</td>\n",
       "      <td>0</td>\n",
       "      <td>0</td>\n",
       "      <td>1</td>\n",
       "      <td>0</td>\n",
       "    </tr>\n",
       "  </tbody>\n",
       "</table>\n",
       "<p>70000 rows × 12 columns</p>\n",
       "</div>"
      ],
      "text/plain": [
       "         age  gender  height  weight  ap_hi  ap_lo  cholesterol  gluc  smoke  \\\n",
       "id                                                                             \n",
       "0      18393       2     168    62.0    110     80            1     1      0   \n",
       "1      20228       1     156    85.0    140     90            3     1      0   \n",
       "2      18857       1     165    64.0    130     70            3     1      0   \n",
       "3      17623       2     169    82.0    150    100            1     1      0   \n",
       "4      17474       1     156    56.0    100     60            1     1      0   \n",
       "...      ...     ...     ...     ...    ...    ...          ...   ...    ...   \n",
       "99993  19240       2     168    76.0    120     80            1     1      1   \n",
       "99995  22601       1     158   126.0    140     90            2     2      0   \n",
       "99996  19066       2     183   105.0    180     90            3     1      0   \n",
       "99998  22431       1     163    72.0    135     80            1     2      0   \n",
       "99999  20540       1     170    72.0    120     80            2     1      0   \n",
       "\n",
       "       alco  active  cardio  \n",
       "id                           \n",
       "0         0       1       0  \n",
       "1         0       1       1  \n",
       "2         0       0       1  \n",
       "3         0       1       1  \n",
       "4         0       0       0  \n",
       "...     ...     ...     ...  \n",
       "99993     0       1       0  \n",
       "99995     0       1       1  \n",
       "99996     1       0       1  \n",
       "99998     0       0       1  \n",
       "99999     0       1       0  \n",
       "\n",
       "[70000 rows x 12 columns]"
      ]
     },
     "execution_count": 35,
     "metadata": {},
     "output_type": "execute_result"
    }
   ],
   "source": [
    "cardio"
   ]
  },
  {
   "cell_type": "code",
   "execution_count": 36,
   "metadata": {},
   "outputs": [],
   "source": [
    "#transformation en matrice numpy - seul reconnu par scikit-learn\n",
    "cardio = cardio.values"
   ]
  },
  {
   "cell_type": "markdown",
   "metadata": {},
   "source": [
    "# Subdivision en échantillons d’apprentissage et de test"
   ]
  },
  {
   "cell_type": "code",
   "execution_count": 38,
   "metadata": {},
   "outputs": [
    {
     "name": "stdout",
     "output_type": "stream",
     "text": [
      "[[1.8393e+04 2.0000e+00 1.6800e+02 ... 0.0000e+00 1.0000e+00 0.0000e+00]\n",
      " [2.0228e+04 1.0000e+00 1.5600e+02 ... 0.0000e+00 1.0000e+00 1.0000e+00]\n",
      " [1.8857e+04 1.0000e+00 1.6500e+02 ... 0.0000e+00 0.0000e+00 1.0000e+00]\n",
      " ...\n",
      " [1.9066e+04 2.0000e+00 1.8300e+02 ... 1.0000e+00 0.0000e+00 1.0000e+00]\n",
      " [2.2431e+04 1.0000e+00 1.6300e+02 ... 0.0000e+00 0.0000e+00 1.0000e+00]\n",
      " [2.0540e+04 1.0000e+00 1.7000e+02 ... 0.0000e+00 1.0000e+00 0.0000e+00]]\n"
     ]
    }
   ],
   "source": [
    "print(cardio[:,0:12])"
   ]
  },
  {
   "cell_type": "code",
   "execution_count": 39,
   "metadata": {},
   "outputs": [],
   "source": [
    "#X matrice des var. explicatives\n",
    "X = cardio[:,0:11]"
   ]
  },
  {
   "cell_type": "code",
   "execution_count": 40,
   "metadata": {},
   "outputs": [
    {
     "name": "stdout",
     "output_type": "stream",
     "text": [
      "[0. 1. 1. ... 1. 1. 0.]\n"
     ]
    }
   ],
   "source": [
    "print(cardio[:,11])"
   ]
  },
  {
   "cell_type": "code",
   "execution_count": 41,
   "metadata": {},
   "outputs": [],
   "source": [
    "#y vecteur de la var. à prédire\n",
    "y = cardio[:,11]"
   ]
  },
  {
   "cell_type": "markdown",
   "metadata": {},
   "source": [
    "# ALGORITHME DE LSC"
   ]
  },
  {
   "cell_type": "code",
   "execution_count": 52,
   "metadata": {},
   "outputs": [
    {
     "name": "stderr",
     "output_type": "stream",
     "text": [
      "C:\\ProgramData\\Anaconda3\\lib\\site-packages\\ipykernel_launcher.py:48: RuntimeWarning: invalid value encountered in true_divide\n"
     ]
    },
    {
     "ename": "LinAlgError",
     "evalue": "SVD did not converge",
     "output_type": "error",
     "traceback": [
      "\u001b[1;31m---------------------------------------------------------------------------\u001b[0m",
      "\u001b[1;31mLinAlgError\u001b[0m                               Traceback (most recent call last)",
      "\u001b[1;32m<ipython-input-52-8589ebdaf578>\u001b[0m in \u001b[0;36m<module>\u001b[1;34m\u001b[0m\n\u001b[0;32m     74\u001b[0m \u001b[1;32mif\u001b[0m \u001b[0mtest2\u001b[0m\u001b[1;33m:\u001b[0m\u001b[1;33m\u001b[0m\u001b[1;33m\u001b[0m\u001b[0m\n\u001b[0;32m     75\u001b[0m     \u001b[0mX\u001b[0m\u001b[1;33m,\u001b[0m\u001b[0my\u001b[0m\u001b[1;33m=\u001b[0m\u001b[0mX\u001b[0m\u001b[1;33m,\u001b[0m\u001b[0my\u001b[0m\u001b[1;33m\u001b[0m\u001b[1;33m\u001b[0m\u001b[0m\n\u001b[1;32m---> 76\u001b[1;33m     \u001b[0mlabels\u001b[0m\u001b[1;33m=\u001b[0m\u001b[0mLSC_Clustering\u001b[0m\u001b[1;33m(\u001b[0m\u001b[0mX\u001b[0m\u001b[1;33m,\u001b[0m\u001b[1;36m2\u001b[0m\u001b[1;33m,\u001b[0m \u001b[1;36m4\u001b[0m\u001b[1;33m,\u001b[0m \u001b[1;34m\"Kmeans\"\u001b[0m\u001b[1;33m,\u001b[0m \u001b[1;36m4\u001b[0m\u001b[1;33m,\u001b[0m \u001b[1;36m0.5\u001b[0m\u001b[1;33m)\u001b[0m\u001b[1;33m.\u001b[0m\u001b[0mlabels_\u001b[0m\u001b[1;33m\u001b[0m\u001b[1;33m\u001b[0m\u001b[0m\n\u001b[0m\u001b[0;32m     77\u001b[0m \u001b[1;33m\u001b[0m\u001b[0m\n\u001b[0;32m     78\u001b[0m     \u001b[0mplt\u001b[0m\u001b[1;33m.\u001b[0m\u001b[0mscatter\u001b[0m\u001b[1;33m(\u001b[0m\u001b[0mX\u001b[0m\u001b[1;33m[\u001b[0m\u001b[1;33m:\u001b[0m\u001b[1;33m,\u001b[0m\u001b[1;36m0\u001b[0m\u001b[1;33m]\u001b[0m\u001b[1;33m,\u001b[0m\u001b[0mX\u001b[0m\u001b[1;33m[\u001b[0m\u001b[1;33m:\u001b[0m\u001b[1;33m,\u001b[0m\u001b[1;36m1\u001b[0m\u001b[1;33m]\u001b[0m\u001b[1;33m,\u001b[0m \u001b[0mc\u001b[0m\u001b[1;33m=\u001b[0m\u001b[0mlabels\u001b[0m\u001b[1;33m)\u001b[0m\u001b[1;33m\u001b[0m\u001b[1;33m\u001b[0m\u001b[0m\n",
      "\u001b[1;32m<ipython-input-52-8589ebdaf578>\u001b[0m in \u001b[0;36mLSC_Clustering\u001b[1;34m(X, n_clusters, n_landmarks, method, non_zero_landmark_weights, bandwidth)\u001b[0m\n\u001b[0;32m     55\u001b[0m     \u001b[0mlandmarks\u001b[0m \u001b[1;33m=\u001b[0m \u001b[0mget_Landmarks\u001b[0m\u001b[1;33m(\u001b[0m\u001b[0mX\u001b[0m\u001b[1;33m,\u001b[0m \u001b[0mn_landmarks\u001b[0m\u001b[1;33m,\u001b[0m \u001b[0mmethod\u001b[0m\u001b[1;33m)\u001b[0m\u001b[1;33m\u001b[0m\u001b[1;33m\u001b[0m\u001b[0m\n\u001b[0;32m     56\u001b[0m     \u001b[0mZhat\u001b[0m \u001b[1;33m=\u001b[0m \u001b[0mcompose_Sparse_ZHat_Matrix\u001b[0m\u001b[1;33m(\u001b[0m\u001b[0mX\u001b[0m\u001b[1;33m,\u001b[0m \u001b[0mlandmarks\u001b[0m\u001b[1;33m,\u001b[0m \u001b[0mbandwidth\u001b[0m\u001b[1;33m,\u001b[0m \u001b[0mnon_zero_landmark_weights\u001b[0m\u001b[1;33m)\u001b[0m\u001b[1;33m\u001b[0m\u001b[1;33m\u001b[0m\u001b[0m\n\u001b[1;32m---> 57\u001b[1;33m     \u001b[0msvd_result\u001b[0m \u001b[1;33m=\u001b[0m \u001b[0mnp\u001b[0m\u001b[1;33m.\u001b[0m\u001b[0mlinalg\u001b[0m\u001b[1;33m.\u001b[0m\u001b[0msvd\u001b[0m\u001b[1;33m(\u001b[0m\u001b[0mZhat\u001b[0m\u001b[1;33m,\u001b[0m \u001b[0mfull_matrices\u001b[0m\u001b[1;33m=\u001b[0m\u001b[1;32mFalse\u001b[0m\u001b[1;33m)\u001b[0m\u001b[1;33m[\u001b[0m\u001b[1;36m0\u001b[0m\u001b[1;33m]\u001b[0m\u001b[1;33m\u001b[0m\u001b[1;33m\u001b[0m\u001b[0m\n\u001b[0m\u001b[0;32m     58\u001b[0m     \u001b[0mclustering_result\u001b[0m \u001b[1;33m=\u001b[0m \u001b[0mKMeans\u001b[0m\u001b[1;33m(\u001b[0m\u001b[0mn_clusters\u001b[0m\u001b[1;33m=\u001b[0m\u001b[0mn_clusters\u001b[0m\u001b[1;33m)\u001b[0m\u001b[1;33m.\u001b[0m\u001b[0mfit\u001b[0m\u001b[1;33m(\u001b[0m\u001b[0msvd_result\u001b[0m\u001b[1;33m)\u001b[0m\u001b[1;33m\u001b[0m\u001b[1;33m\u001b[0m\u001b[0m\n\u001b[0;32m     59\u001b[0m     \u001b[1;32mreturn\u001b[0m \u001b[0mclustering_result\u001b[0m\u001b[1;33m\u001b[0m\u001b[1;33m\u001b[0m\u001b[0m\n",
      "\u001b[1;32m<__array_function__ internals>\u001b[0m in \u001b[0;36msvd\u001b[1;34m(*args, **kwargs)\u001b[0m\n",
      "\u001b[1;32m~\\AppData\\Roaming\\Python\\Python37\\site-packages\\numpy\\linalg\\linalg.py\u001b[0m in \u001b[0;36msvd\u001b[1;34m(a, full_matrices, compute_uv, hermitian)\u001b[0m\n\u001b[0;32m   1659\u001b[0m \u001b[1;33m\u001b[0m\u001b[0m\n\u001b[0;32m   1660\u001b[0m         \u001b[0msignature\u001b[0m \u001b[1;33m=\u001b[0m \u001b[1;34m'D->DdD'\u001b[0m \u001b[1;32mif\u001b[0m \u001b[0misComplexType\u001b[0m\u001b[1;33m(\u001b[0m\u001b[0mt\u001b[0m\u001b[1;33m)\u001b[0m \u001b[1;32melse\u001b[0m \u001b[1;34m'd->ddd'\u001b[0m\u001b[1;33m\u001b[0m\u001b[1;33m\u001b[0m\u001b[0m\n\u001b[1;32m-> 1661\u001b[1;33m         \u001b[0mu\u001b[0m\u001b[1;33m,\u001b[0m \u001b[0ms\u001b[0m\u001b[1;33m,\u001b[0m \u001b[0mvh\u001b[0m \u001b[1;33m=\u001b[0m \u001b[0mgufunc\u001b[0m\u001b[1;33m(\u001b[0m\u001b[0ma\u001b[0m\u001b[1;33m,\u001b[0m \u001b[0msignature\u001b[0m\u001b[1;33m=\u001b[0m\u001b[0msignature\u001b[0m\u001b[1;33m,\u001b[0m \u001b[0mextobj\u001b[0m\u001b[1;33m=\u001b[0m\u001b[0mextobj\u001b[0m\u001b[1;33m)\u001b[0m\u001b[1;33m\u001b[0m\u001b[1;33m\u001b[0m\u001b[0m\n\u001b[0m\u001b[0;32m   1662\u001b[0m         \u001b[0mu\u001b[0m \u001b[1;33m=\u001b[0m \u001b[0mu\u001b[0m\u001b[1;33m.\u001b[0m\u001b[0mastype\u001b[0m\u001b[1;33m(\u001b[0m\u001b[0mresult_t\u001b[0m\u001b[1;33m,\u001b[0m \u001b[0mcopy\u001b[0m\u001b[1;33m=\u001b[0m\u001b[1;32mFalse\u001b[0m\u001b[1;33m)\u001b[0m\u001b[1;33m\u001b[0m\u001b[1;33m\u001b[0m\u001b[0m\n\u001b[0;32m   1663\u001b[0m         \u001b[0ms\u001b[0m \u001b[1;33m=\u001b[0m \u001b[0ms\u001b[0m\u001b[1;33m.\u001b[0m\u001b[0mastype\u001b[0m\u001b[1;33m(\u001b[0m\u001b[0m_realType\u001b[0m\u001b[1;33m(\u001b[0m\u001b[0mresult_t\u001b[0m\u001b[1;33m)\u001b[0m\u001b[1;33m,\u001b[0m \u001b[0mcopy\u001b[0m\u001b[1;33m=\u001b[0m\u001b[1;32mFalse\u001b[0m\u001b[1;33m)\u001b[0m\u001b[1;33m\u001b[0m\u001b[1;33m\u001b[0m\u001b[0m\n",
      "\u001b[1;32m~\\AppData\\Roaming\\Python\\Python37\\site-packages\\numpy\\linalg\\linalg.py\u001b[0m in \u001b[0;36m_raise_linalgerror_svd_nonconvergence\u001b[1;34m(err, flag)\u001b[0m\n\u001b[0;32m     95\u001b[0m \u001b[1;33m\u001b[0m\u001b[0m\n\u001b[0;32m     96\u001b[0m \u001b[1;32mdef\u001b[0m \u001b[0m_raise_linalgerror_svd_nonconvergence\u001b[0m\u001b[1;33m(\u001b[0m\u001b[0merr\u001b[0m\u001b[1;33m,\u001b[0m \u001b[0mflag\u001b[0m\u001b[1;33m)\u001b[0m\u001b[1;33m:\u001b[0m\u001b[1;33m\u001b[0m\u001b[1;33m\u001b[0m\u001b[0m\n\u001b[1;32m---> 97\u001b[1;33m     \u001b[1;32mraise\u001b[0m \u001b[0mLinAlgError\u001b[0m\u001b[1;33m(\u001b[0m\u001b[1;34m\"SVD did not converge\"\u001b[0m\u001b[1;33m)\u001b[0m\u001b[1;33m\u001b[0m\u001b[1;33m\u001b[0m\u001b[0m\n\u001b[0m\u001b[0;32m     98\u001b[0m \u001b[1;33m\u001b[0m\u001b[0m\n\u001b[0;32m     99\u001b[0m \u001b[1;32mdef\u001b[0m \u001b[0m_raise_linalgerror_lstsq\u001b[0m\u001b[1;33m(\u001b[0m\u001b[0merr\u001b[0m\u001b[1;33m,\u001b[0m \u001b[0mflag\u001b[0m\u001b[1;33m)\u001b[0m\u001b[1;33m:\u001b[0m\u001b[1;33m\u001b[0m\u001b[1;33m\u001b[0m\u001b[0m\n",
      "\u001b[1;31mLinAlgError\u001b[0m: SVD did not converge"
     ]
    }
   ],
   "source": [
    "import numpy as np\n",
    "import matplotlib.pyplot as plt\n",
    "from sklearn.cluster import KMeans\n",
    "from sklearn.datasets import make_blobs\n",
    "from sklearn.metrics.pairwise import pairwise_distances\n",
    "import scipy\n",
    "\n",
    "\n",
    "def find_p(X, start=1, end=10):\n",
    "    \n",
    "    min_size=[]\n",
    "    number_of_clusters=[]\n",
    "    for i in range(start,end+1):\n",
    "        min_size.append(i)   \n",
    "        number_of_clusters.append(KMeans(n_clusters=i).fit(X).inertia_)\n",
    "    _, ax=plt.subplots()\n",
    "    \n",
    "    ax.set(ylabel='Inertia', xlabel='Number of clusters', title='The elbow method')\n",
    "    plt.xticks(np.arange(start,end, 1))    \n",
    "    plt.plot(min_size,number_of_clusters)\n",
    "    plt.show()    \n",
    "\n",
    "def get_Landmarks(X, p, method=\"random\"):\n",
    "    if method==\"random\":\n",
    "        N = len(X)\n",
    "        perm= np.random.permutation(np.arange(N))\n",
    "        print(perm)\n",
    "        landmarks = X[perm[:p],:]\n",
    "        return landmarks\n",
    "    else:\n",
    "        kmeans_model=KMeans(n_clusters=p).fit(X)\n",
    "        return kmeans_model.cluster_centers_\n",
    "\n",
    "\n",
    "def gaussian_kernel(dist_mat, bandwidth):\n",
    "    return np.exp(-dist_mat / (2*bandwidth**2))\n",
    "\n",
    "def compose_Sparse_ZHat_Matrix(X, landmarks, bandwidth, r):\n",
    "    dist_mat=pairwise_distances(X,landmarks)\n",
    "    sim_mat=gaussian_kernel(dist_mat, bandwidth)\n",
    "    \n",
    "    Zhat = np.zeros(sim_mat.shape)\n",
    "\n",
    "    for i in range(Zhat.shape[0]):\n",
    "        #may need j.sort.selectperm\n",
    "        top_Landmarks_indices = np.argsort(-sim_mat[i,:])[:r]\n",
    "        top_Landmarks_coefs = sim_mat[i,top_Landmarks_indices]\n",
    "        top_Landmarks_coefs /= np.sum(top_Landmarks_coefs)\n",
    "        Zhat[i, top_Landmarks_indices] = top_Landmarks_coefs\n",
    "    #May be wrong    \n",
    "    diagm=np.sum(Zhat, axis=0)**(-1/2)\n",
    "    return diagm*Zhat\n",
    "\n",
    "def LSC_Clustering(X, n_clusters, n_landmarks, method, non_zero_landmark_weights, bandwidth):\n",
    "    landmarks = get_Landmarks(X, n_landmarks, method)\n",
    "    Zhat = compose_Sparse_ZHat_Matrix(X, landmarks, bandwidth, non_zero_landmark_weights)\n",
    "    svd_result = np.linalg.svd(Zhat, full_matrices=False)[0]\n",
    "    clustering_result = KMeans(n_clusters=n_clusters).fit(svd_result)\n",
    "    return clustering_result\n",
    "#Test get_Landmarks\n",
    "test1=False\n",
    "if test1:\n",
    "    X,y= X,y\n",
    "\n",
    "    landmarks_rand=get_Landmarks(X,2)\n",
    "    print(landmarks_rand)\n",
    "\n",
    "    landmarks_kmeans=get_Landmarks(X,2,\"KMeans\")\n",
    "    print(landmarks_kmeans)\n",
    "    find_p(X)\n",
    "    print(compose_Sparse_ZHat_Matrix(X, landmarks_kmeans, 1, 5))\n",
    "\n",
    "test2=True\n",
    "if test2:\n",
    "    X,y=X,y\n",
    "    labels=LSC_Clustering(X,2, 4, \"Kmeans\", 4, 0.5).labels_\n",
    "    \n",
    "    plt.scatter(X[:,0],X[:,1], c=labels)\n",
    "    plt.show()"
   ]
  },
  {
   "cell_type": "code",
   "execution_count": 53,
   "metadata": {},
   "outputs": [
    {
     "data": {
      "text/plain": [
       "'1.19.5'"
      ]
     },
     "execution_count": 53,
     "metadata": {},
     "output_type": "execute_result"
    }
   ],
   "source": [
    "np.__version__"
   ]
  }
 ],
 "metadata": {
  "kernelspec": {
   "display_name": "Python 3",
   "language": "python",
   "name": "python3"
  },
  "language_info": {
   "codemirror_mode": {
    "name": "ipython",
    "version": 3
   },
   "file_extension": ".py",
   "mimetype": "text/x-python",
   "name": "python",
   "nbconvert_exporter": "python",
   "pygments_lexer": "ipython3",
   "version": "3.7.4"
  }
 },
 "nbformat": 4,
 "nbformat_minor": 2
}
